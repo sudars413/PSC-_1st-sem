{
 "cells": [
  {
   "cell_type": "code",
   "execution_count": 1,
   "id": "34f53802-6fcc-4919-ae92-a4471aa55032",
   "metadata": {},
   "outputs": [],
   "source": [
    "#the center() function in python is string method that returns a new string with the original string centered a specified width."
   ]
  },
  {
   "cell_type": "code",
   "execution_count": 3,
   "id": "eb14f494-6814-43be-97a4-89c3b926dc3f",
   "metadata": {},
   "outputs": [],
   "source": [
    "name= \"sudarshan\""
   ]
  },
  {
   "cell_type": "code",
   "execution_count": 5,
   "id": "bdf4b2a0-6aee-4595-87d4-e9326f6705d5",
   "metadata": {},
   "outputs": [
    {
     "data": {
      "text/plain": [
       "'sudarshan'"
      ]
     },
     "execution_count": 5,
     "metadata": {},
     "output_type": "execute_result"
    }
   ],
   "source": [
    "name"
   ]
  },
  {
   "cell_type": "code",
   "execution_count": 7,
   "id": "8346c8d4-6ec6-413d-b60f-236e37b3a49a",
   "metadata": {},
   "outputs": [
    {
     "data": {
      "text/plain": [
       "'sudarshan '"
      ]
     },
     "execution_count": 7,
     "metadata": {},
     "output_type": "execute_result"
    }
   ],
   "source": [
    "name.center(10)"
   ]
  },
  {
   "cell_type": "code",
   "execution_count": 9,
   "id": "3d233e4a-4777-4b65-b77f-944454b3f682",
   "metadata": {},
   "outputs": [
    {
     "data": {
      "text/plain": [
       "'*****sudarshan******'"
      ]
     },
     "execution_count": 9,
     "metadata": {},
     "output_type": "execute_result"
    }
   ],
   "source": [
    "name.center(20,\"*\")"
   ]
  },
  {
   "cell_type": "markdown",
   "id": "5e6073a5-127a-4ae3-b6da-767383a47df8",
   "metadata": {},
   "source": [
    "#  difference between compiler and interpreter"
   ]
  },
  {
   "cell_type": "code",
   "execution_count": 27,
   "id": "1086d381-81cf-480a-bb54-8408317fdebb",
   "metadata": {},
   "outputs": [],
   "source": [
    "Roll_no_39 = \"sudarshan kare\""
   ]
  },
  {
   "cell_type": "code",
   "execution_count": 29,
   "id": "cfb412ce-a464-4a4a-8b18-df956aa01b39",
   "metadata": {},
   "outputs": [
    {
     "data": {
      "text/plain": [
       "'sudarshan kare'"
      ]
     },
     "execution_count": 29,
     "metadata": {},
     "output_type": "execute_result"
    }
   ],
   "source": [
    "Roll_no_39"
   ]
  },
  {
   "cell_type": "code",
   "execution_count": 35,
   "id": "10588861-4092-4fbb-ab88-79a77446cfb9",
   "metadata": {},
   "outputs": [],
   "source": [
    "true = \"sudarshan kare\""
   ]
  },
  {
   "cell_type": "code",
   "execution_count": 37,
   "id": "5d50d330-c707-487b-af34-e18d1497c96d",
   "metadata": {},
   "outputs": [
    {
     "ename": "SyntaxError",
     "evalue": "invalid syntax (2390890972.py, line 1)",
     "output_type": "error",
     "traceback": [
      "\u001b[0;36m  Cell \u001b[0;32mIn[37], line 1\u001b[0;36m\u001b[0m\n\u001b[0;31m    na me = \"sudarshan kare\"\u001b[0m\n\u001b[0m       ^\u001b[0m\n\u001b[0;31mSyntaxError\u001b[0m\u001b[0;31m:\u001b[0m invalid syntax\n"
     ]
    }
   ],
   "source": [
    "na me = \"sudarshan kare\""
   ]
  },
  {
   "cell_type": "code",
   "execution_count": 39,
   "id": "37f22e74-afa7-4e2f-8644-3ef7051436b4",
   "metadata": {},
   "outputs": [],
   "source": [
    "age = 18"
   ]
  },
  {
   "cell_type": "code",
   "execution_count": 41,
   "id": "3e13ad81-8cfc-4ccd-83b6-cc933e82cdb8",
   "metadata": {},
   "outputs": [],
   "source": [
    "Age = 18"
   ]
  },
  {
   "cell_type": "code",
   "execution_count": 43,
   "id": "b82d6548-5890-46b5-af4a-40acc1847b64",
   "metadata": {},
   "outputs": [
    {
     "data": {
      "text/plain": [
       "18"
      ]
     },
     "execution_count": 43,
     "metadata": {},
     "output_type": "execute_result"
    }
   ],
   "source": [
    "age"
   ]
  },
  {
   "cell_type": "code",
   "execution_count": 49,
   "id": "16e51fec-c788-43c1-85e3-849cefa05cba",
   "metadata": {},
   "outputs": [
    {
     "ename": "SyntaxError",
     "evalue": "invalid decimal literal (2729136119.py, line 1)",
     "output_type": "error",
     "traceback": [
      "\u001b[0;36m  Cell \u001b[0;32mIn[49], line 1\u001b[0;36m\u001b[0m\n\u001b[0;31m    23name = \"sudarshan kare\"\u001b[0m\n\u001b[0m     ^\u001b[0m\n\u001b[0;31mSyntaxError\u001b[0m\u001b[0;31m:\u001b[0m invalid decimal literal\n"
     ]
    }
   ],
   "source": [
    "23name = \"sudarshan kare\""
   ]
  },
  {
   "cell_type": "code",
   "execution_count": 51,
   "id": "4c0d4951-e5ad-4910-bf72-b2bab4717755",
   "metadata": {},
   "outputs": [],
   "source": [
    "name18= \"sudarshan\""
   ]
  },
  {
   "cell_type": "code",
   "execution_count": 94,
   "id": "c15ee9b6-96a1-4091-b9fd-1ba6152ca48c",
   "metadata": {},
   "outputs": [],
   "source": [
    "a,b,c= 34,56,67"
   ]
  },
  {
   "cell_type": "code",
   "execution_count": 96,
   "id": "2695c1bc-a569-46b4-b55e-a7f2e6903044",
   "metadata": {},
   "outputs": [
    {
     "data": {
      "text/plain": [
       "34"
      ]
     },
     "execution_count": 96,
     "metadata": {},
     "output_type": "execute_result"
    }
   ],
   "source": [
    "a"
   ]
  },
  {
   "cell_type": "code",
   "execution_count": 98,
   "id": "b212f65a-414a-42e5-97d8-1a26b3327492",
   "metadata": {},
   "outputs": [
    {
     "data": {
      "text/plain": [
       "56"
      ]
     },
     "execution_count": 98,
     "metadata": {},
     "output_type": "execute_result"
    }
   ],
   "source": [
    "b"
   ]
  },
  {
   "cell_type": "code",
   "execution_count": 100,
   "id": "fb6fb297-2023-4d5f-9627-99a17ec1eabd",
   "metadata": {},
   "outputs": [
    {
     "data": {
      "text/plain": [
       "67"
      ]
     },
     "execution_count": 100,
     "metadata": {},
     "output_type": "execute_result"
    }
   ],
   "source": [
    "c"
   ]
  },
  {
   "cell_type": "code",
   "execution_count": 102,
   "id": "5d86143b-33a1-44f2-b0a9-7a4be0ced5b1",
   "metadata": {},
   "outputs": [
    {
     "name": "stdout",
     "output_type": "stream",
     "text": [
      "sudarshan kare\n"
     ]
    }
   ],
   "source": [
    "# Library function or in-built function\n",
    "print(\"sudarshan kare\")\n"
   ]
  },
  {
   "cell_type": "code",
   "execution_count": 104,
   "id": "a13de9cc-1cbe-4584-89b6-b0e94e337976",
   "metadata": {},
   "outputs": [
    {
     "name": "stdout",
     "output_type": "stream",
     "text": [
      "34\n",
      "a\n"
     ]
    }
   ],
   "source": [
    "print(a)\n",
    "print(\"a\")"
   ]
  },
  {
   "cell_type": "code",
   "execution_count": 106,
   "id": "6d98881f-28e3-4479-8951-86ad4af86eee",
   "metadata": {},
   "outputs": [
    {
     "name": "stdout",
     "output_type": "stream",
     "text": [
      "34 56 67\n"
     ]
    }
   ],
   "source": [
    "print(a,b,c)\n"
   ]
  },
  {
   "cell_type": "code",
   "execution_count": 119,
   "id": "cd92aef7-c9db-40af-9ef8-4425fa087e8f",
   "metadata": {},
   "outputs": [
    {
     "name": "stdout",
     "output_type": "stream",
     "text": [
      "54# 67# 65\n"
     ]
    }
   ],
   "source": [
    "#o/p--> 54, 65, 87\n",
    "print(54, 67, 65 ,sep=\"# \")"
   ]
  },
  {
   "cell_type": "code",
   "execution_count": 125,
   "id": "0587f119-1701-4ede-b7b2-db72c1b170f3",
   "metadata": {},
   "outputs": [],
   "source": [
    "name= \"sudarshan kare\""
   ]
  },
  {
   "cell_type": "code",
   "execution_count": 123,
   "id": "3fc29999-fe8f-45a2-8089-c3a8d5fe34f7",
   "metadata": {},
   "outputs": [
    {
     "data": {
      "text/plain": [
       "str"
      ]
     },
     "execution_count": 123,
     "metadata": {},
     "output_type": "execute_result"
    }
   ],
   "source": [
    "type (name)"
   ]
  },
  {
   "cell_type": "code",
   "execution_count": 127,
   "id": "5e0be58d-08da-458a-aaf4-4d4d58df1d41",
   "metadata": {},
   "outputs": [],
   "source": [
    "name1 = 'sudarshan kare'"
   ]
  },
  {
   "cell_type": "code",
   "execution_count": 131,
   "id": "324705d7-0ade-497d-90f7-bbc079047c05",
   "metadata": {},
   "outputs": [
    {
     "data": {
      "text/plain": [
       "str"
      ]
     },
     "execution_count": 131,
     "metadata": {},
     "output_type": "execute_result"
    }
   ],
   "source": [
    "type(name1)"
   ]
  },
  {
   "cell_type": "code",
   "execution_count": 141,
   "id": "294b159e-a9e7-4e89-896d-132a2a7dc3cc",
   "metadata": {},
   "outputs": [],
   "source": [
    "name2 = \"\"\"sudarshan kare\"\"\""
   ]
  },
  {
   "cell_type": "code",
   "execution_count": 143,
   "id": "af3d8307-bc56-4261-90a5-ee5e93363930",
   "metadata": {},
   "outputs": [
    {
     "data": {
      "text/plain": [
       "str"
      ]
     },
     "execution_count": 143,
     "metadata": {},
     "output_type": "execute_result"
    }
   ],
   "source": [
    "type(name2)"
   ]
  },
  {
   "cell_type": "code",
   "execution_count": 145,
   "id": "2d05ca5d-0fe3-4902-943c-ad7bb01f6076",
   "metadata": {},
   "outputs": [],
   "source": [
    "name3 = '''sudarshan'''"
   ]
  },
  {
   "cell_type": "code",
   "execution_count": 147,
   "id": "073482fd-5bda-4671-87f7-c048b884b78c",
   "metadata": {},
   "outputs": [
    {
     "name": "stdout",
     "output_type": "stream",
     "text": [
      "\n"
     ]
    }
   ],
   "source": [
    "# single quote in string is allowed.\n",
    "# double quote in string is allowed"
   ]
  },
  {
   "cell_type": "code",
   "execution_count": 163,
   "id": "662c2d18-77e4-424a-a6c5-b9c8b7631555",
   "metadata": {},
   "outputs": [
    {
     "name": "stdout",
     "output_type": "stream",
     "text": [
      "sudarshan kare\tsudarshaan kare\t"
     ]
    }
   ],
   "source": [
    "print(\"sudarshan kare\", end=\"\\t\")\n",
    "print(\"sudarshaan kare\", end=\"\\t\")"
   ]
  },
  {
   "cell_type": "code",
   "execution_count": 155,
   "id": "302045d0-9185-4a97-a893-64248484cdd6",
   "metadata": {},
   "outputs": [
    {
     "ename": "SyntaxError",
     "evalue": "unterminated string literal (detected at line 1) (2701271203.py, line 1)",
     "output_type": "error",
     "traceback": [
      "\u001b[0;36m  Cell \u001b[0;32mIn[155], line 1\u001b[0;36m\u001b[0m\n\u001b[0;31m    print(\"sudarshan\u001b[0m\n\u001b[0m          ^\u001b[0m\n\u001b[0;31mSyntaxError\u001b[0m\u001b[0;31m:\u001b[0m unterminated string literal (detected at line 1)\n"
     ]
    }
   ],
   "source": [
    "print(\"sudarshan\n",
    "kare\" )"
   ]
  },
  {
   "cell_type": "code",
   "execution_count": null,
   "id": "33d27eeb-1e19-40e9-b018-e484f495f5f4",
   "metadata": {},
   "outputs": [],
   "source": []
  },
  {
   "cell_type": "code",
   "execution_count": null,
   "id": "bf4a5969-dbf5-4060-852b-a76c5416f2a3",
   "metadata": {},
   "outputs": [],
   "source": []
  },
  {
   "cell_type": "code",
   "execution_count": null,
   "id": "0b28f738-5bad-441b-a638-9639c03a523c",
   "metadata": {},
   "outputs": [],
   "source": []
  }
 ],
 "metadata": {
  "kernelspec": {
   "display_name": "Python 3 (ipykernel)",
   "language": "python",
   "name": "python3"
  },
  "language_info": {
   "codemirror_mode": {
    "name": "ipython",
    "version": 3
   },
   "file_extension": ".py",
   "mimetype": "text/x-python",
   "name": "python",
   "nbconvert_exporter": "python",
   "pygments_lexer": "ipython3",
   "version": "3.12.4"
  }
 },
 "nbformat": 4,
 "nbformat_minor": 5
}
