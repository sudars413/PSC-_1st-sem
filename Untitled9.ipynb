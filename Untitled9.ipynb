{
 "cells": [
  {
   "cell_type": "code",
   "execution_count": 85,
   "id": "15f240de-1012-46e9-bdd0-976eac5421eb",
   "metadata": {},
   "outputs": [],
   "source": [
    "s=\"this is My First Python programming class and i am learNING python string and its function\""
   ]
  },
  {
   "cell_type": "code",
   "execution_count": 87,
   "id": "a1a5df77-78ea-4533-a0b0-d47c1d69e551",
   "metadata": {},
   "outputs": [
    {
     "data": {
      "text/plain": [
       "'this is My First Python programming class and i am learNING python string and its function'"
      ]
     },
     "execution_count": 87,
     "metadata": {},
     "output_type": "execute_result"
    }
   ],
   "source": [
    "s"
   ]
  },
  {
   "cell_type": "code",
   "execution_count": 89,
   "id": "77fd8011-f43c-4471-9602-8b47479afe0e",
   "metadata": {},
   "outputs": [
    {
     "data": {
      "text/plain": [
       "'h   r tnrrmglsnimeNGyosi dtfco'"
      ]
     },
     "execution_count": 89,
     "metadata": {},
     "output_type": "execute_result"
    }
   ],
   "source": [
    "s[1:301:3]"
   ]
  },
  {
   "cell_type": "code",
   "execution_count": 57,
   "id": "5913b34f-e912-480c-8f00-de2119f5d973",
   "metadata": {},
   "outputs": [
    {
     "data": {
      "text/plain": [
       "'noitcnuf sti dna gnirts nohtyp GNINrael ma i dna ssalc gnimargorp nohtyp tsriF yM si siht'"
      ]
     },
     "execution_count": 57,
     "metadata": {},
     "output_type": "execute_result"
    }
   ],
   "source": [
    "s[::-1]"
   ]
  },
  {
   "cell_type": "code",
   "execution_count": 91,
   "id": "c0d9e296-048c-4ee0-b194-2b4f10a18969",
   "metadata": {},
   "outputs": [
    {
     "data": {
      "text/plain": [
       "['THIS',\n",
       " 'IS',\n",
       " 'MY',\n",
       " 'FIRST',\n",
       " 'PYTHON',\n",
       " 'PROGRAMMING',\n",
       " 'CLASS',\n",
       " 'AND',\n",
       " 'I',\n",
       " 'AM',\n",
       " 'LEARNING',\n",
       " 'PYTHON',\n",
       " 'STRING',\n",
       " 'AND',\n",
       " 'ITS',\n",
       " 'FUNCTION']"
      ]
     },
     "execution_count": 91,
     "metadata": {},
     "output_type": "execute_result"
    }
   ],
   "source": [
    "s.upper().split()"
   ]
  },
  {
   "cell_type": "code",
   "execution_count": 63,
   "id": "4296f409-0a74-47e2-9876-45bf162136c8",
   "metadata": {},
   "outputs": [
    {
     "data": {
      "text/plain": [
       "'this is my first python programing class and i am learning python string and its function'"
      ]
     },
     "execution_count": 63,
     "metadata": {},
     "output_type": "execute_result"
    }
   ],
   "source": [
    "s.lower()"
   ]
  },
  {
   "cell_type": "code",
   "execution_count": 65,
   "id": "8dcdacec-d42f-4b15-a92a-88f9ba0b8ae4",
   "metadata": {},
   "outputs": [
    {
     "data": {
      "text/plain": [
       "'This is my first python programing class and i am learning python string and its function'"
      ]
     },
     "execution_count": 65,
     "metadata": {},
     "output_type": "execute_result"
    }
   ],
   "source": [
    "s.capitalize()"
   ]
  },
  {
   "cell_type": "code",
   "execution_count": null,
   "id": "0a52049c-ed4d-4d98-93c8-ec271a6231bb",
   "metadata": {},
   "outputs": [],
   "source": [
    "#isalnum gives all the characters in the string are alphabets and isalnum give all the characters in the string are either alphabet and numbers"
   ]
  },
  {
   "cell_type": "markdown",
   "id": "15ca083c-2d83-4329-8da1-897df0ab60a0",
   "metadata": {},
   "source": [
    "#  alpha gives the value as true if all character are alphabets and alnum gives the value true if all characters are alphabets and number"
   ]
  },
  {
   "cell_type": "code",
   "execution_count": 100,
   "id": "66feca6c-2057-4801-a8f8-263232429ece",
   "metadata": {},
   "outputs": [],
   "source": [
    "t=\"sudarshan\"\n",
    "s1=4654\n",
    "s3=\"sud465\""
   ]
  },
  {
   "cell_type": "code",
   "execution_count": 104,
   "id": "5c061eb4-313e-4161-8347-e9cab194e423",
   "metadata": {},
   "outputs": [
    {
     "data": {
      "text/plain": [
       "True"
      ]
     },
     "execution_count": 104,
     "metadata": {},
     "output_type": "execute_result"
    }
   ],
   "source": [
    "t.isalpha()"
   ]
  },
  {
   "cell_type": "markdown",
   "id": "19ca11a3-387c-4694-a21c-9cb0f5c58a69",
   "metadata": {},
   "source": [
    "#  Give an example of strip, lstrip and rstrip"
   ]
  },
  {
   "cell_type": "code",
   "execution_count": 107,
   "id": "5aa9fff8-abd0-4b62-a1b3-d68f2eea062b",
   "metadata": {},
   "outputs": [
    {
     "data": {
      "text/plain": [
       "'hey!! sudarshan'"
      ]
     },
     "execution_count": 107,
     "metadata": {},
     "output_type": "execute_result"
    }
   ],
   "source": [
    "#1 example of strip:\n",
    "a1= \"@@@33@hey!! sudarshan@3@@@\"\n",
    "a1.strip(\"@3\") #removes all @2only from the right side"
   ]
  },
  {
   "cell_type": "code",
   "execution_count": 113,
   "id": "38447b97-7ec1-467a-a7ca-c35807321efb",
   "metadata": {},
   "outputs": [
    {
     "data": {
      "text/plain": [
       "'hey!! sudarshan@2@@@'"
      ]
     },
     "execution_count": 113,
     "metadata": {},
     "output_type": "execute_result"
    }
   ],
   "source": [
    "#2 example of strip:\n",
    "a1=\"@@@22@hey!! sudarshan@2@@@\"\n",
    "a1.lstrip(\"@2\") # removes all @2 only from the left side"
   ]
  },
  {
   "cell_type": "code",
   "execution_count": 115,
   "id": "f7a080e3-b6ff-4cd1-bcd3-548fdf6c54b3",
   "metadata": {},
   "outputs": [
    {
     "data": {
      "text/plain": [
       "'@@@222hey!! sudarshan'"
      ]
     },
     "execution_count": 115,
     "metadata": {},
     "output_type": "execute_result"
    }
   ],
   "source": [
    "#3 example of rstrip:\n",
    "a2= \"@@@222hey!! sudarshan@2@@@\"\n",
    "a2.rstrip(\"@2\")"
   ]
  },
  {
   "cell_type": "code",
   "execution_count": null,
   "id": "3d1b5e29-6275-421c-8a73-948cbe88b224",
   "metadata": {},
   "outputs": [],
   "source": []
  }
 ],
 "metadata": {
  "kernelspec": {
   "display_name": "Python 3 (ipykernel)",
   "language": "python",
   "name": "python3"
  },
  "language_info": {
   "codemirror_mode": {
    "name": "ipython",
    "version": 3
   },
   "file_extension": ".py",
   "mimetype": "text/x-python",
   "name": "python",
   "nbconvert_exporter": "python",
   "pygments_lexer": "ipython3",
   "version": "3.12.4"
  }
 },
 "nbformat": 4,
 "nbformat_minor": 5
}
